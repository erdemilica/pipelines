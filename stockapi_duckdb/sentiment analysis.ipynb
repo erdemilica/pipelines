{
 "cells": [
  {
   "cell_type": "code",
   "execution_count": 1,
   "id": "791e5fa4",
   "metadata": {},
   "outputs": [],
   "source": [
    "#importing duckdb and pandas"
   ]
  },
  {
   "cell_type": "code",
   "execution_count": 2,
   "id": "6ac8d888",
   "metadata": {},
   "outputs": [],
   "source": [
    "import duckdb\n",
    "import pandas as pd"
   ]
  },
  {
   "cell_type": "code",
   "execution_count": 3,
   "id": "58dcd279",
   "metadata": {},
   "outputs": [],
   "source": [
    "#connecting database"
   ]
  },
  {
   "cell_type": "code",
   "execution_count": 4,
   "id": "2e0e7221",
   "metadata": {},
   "outputs": [],
   "source": [
    "connection = duckdb.connect(database='stockapi.duckdb')"
   ]
  },
  {
   "cell_type": "code",
   "execution_count": 5,
   "id": "f352f9ad",
   "metadata": {},
   "outputs": [],
   "source": [
    "#writing our query"
   ]
  },
  {
   "cell_type": "code",
   "execution_count": 6,
   "id": "c937a0e4",
   "metadata": {},
   "outputs": [
    {
     "name": "stderr",
     "output_type": "stream",
     "text": [
      "/Users/erdemilica/opt/anaconda3/lib/python3.9/site-packages/pandas/io/sql.py:762: UserWarning: pandas only support SQLAlchemy connectable(engine/connection) ordatabase string URI or sqlite3 DBAPI2 connectionother DBAPI2 objects are not tested, please consider using SQLAlchemy\n",
      "  warnings.warn(\n"
     ]
    }
   ],
   "source": [
    "query = 'SELECT * FROM stockapi_data.stockapi_resource'\n",
    "df = pd.read_sql_query(query, connection)"
   ]
  },
  {
   "cell_type": "code",
   "execution_count": 7,
   "id": "ea2ae253",
   "metadata": {},
   "outputs": [],
   "source": [
    "connection.close()"
   ]
  },
  {
   "cell_type": "code",
   "execution_count": 8,
   "id": "54032316",
   "metadata": {
    "scrolled": true
   },
   "outputs": [
    {
     "data": {
      "text/html": [
       "<div>\n",
       "<style scoped>\n",
       "    .dataframe tbody tr th:only-of-type {\n",
       "        vertical-align: middle;\n",
       "    }\n",
       "\n",
       "    .dataframe tbody tr th {\n",
       "        vertical-align: top;\n",
       "    }\n",
       "\n",
       "    .dataframe thead th {\n",
       "        text-align: right;\n",
       "    }\n",
       "</style>\n",
       "<table border=\"1\" class=\"dataframe\">\n",
       "  <thead>\n",
       "    <tr style=\"text-align: right;\">\n",
       "      <th></th>\n",
       "      <th>date</th>\n",
       "      <th>title</th>\n",
       "      <th>content</th>\n",
       "      <th>link</th>\n",
       "      <th>sentiment__polarity</th>\n",
       "      <th>sentiment__neg</th>\n",
       "      <th>sentiment__neu</th>\n",
       "      <th>sentiment__pos</th>\n",
       "      <th>_dlt_load_id</th>\n",
       "      <th>_dlt_id</th>\n",
       "    </tr>\n",
       "  </thead>\n",
       "  <tbody>\n",
       "    <tr>\n",
       "      <th>0</th>\n",
       "      <td>2023-06-15 01:40:47</td>\n",
       "      <td>Amazon customer claims company locked him out ...</td>\n",
       "      <td>An Amazon customer claims that the tech giant ...</td>\n",
       "      <td>https://finance.yahoo.com/news/amazon-customer...</td>\n",
       "      <td>0.948</td>\n",
       "      <td>0.063</td>\n",
       "      <td>0.830</td>\n",
       "      <td>0.108</td>\n",
       "      <td>1686816242.500582</td>\n",
       "      <td>6bdcxw33zSd3/w</td>\n",
       "    </tr>\n",
       "    <tr>\n",
       "      <th>1</th>\n",
       "      <td>2023-06-14 20:24:51</td>\n",
       "      <td>AMD closes higher, AWS reportedly considers us...</td>\n",
       "      <td>Amazon Web Services is considering using AMD's...</td>\n",
       "      <td>https://finance.yahoo.com/video/amd-closes-hig...</td>\n",
       "      <td>0.178</td>\n",
       "      <td>0.000</td>\n",
       "      <td>0.948</td>\n",
       "      <td>0.052</td>\n",
       "      <td>1686816242.500582</td>\n",
       "      <td>hJqfY9vfZAjhdA</td>\n",
       "    </tr>\n",
       "    <tr>\n",
       "      <th>2</th>\n",
       "      <td>2023-06-14 17:40:42</td>\n",
       "      <td>Oracle Is Fighting For Its Place Under The Clo...</td>\n",
       "      <td>On Monday after market close, Oracle Corporati...</td>\n",
       "      <td>https://finance.yahoo.com/news/oracle-fighting...</td>\n",
       "      <td>0.997</td>\n",
       "      <td>0.015</td>\n",
       "      <td>0.854</td>\n",
       "      <td>0.131</td>\n",
       "      <td>1686816242.500582</td>\n",
       "      <td>38j0rWjakxbomQ</td>\n",
       "    </tr>\n",
       "    <tr>\n",
       "      <th>3</th>\n",
       "      <td>2023-06-14 16:18:03</td>\n",
       "      <td>Stock market today: Dow ends lower as Fed sign...</td>\n",
       "      <td>By Yasin Ebrahim\\n\\nInvesting.com -- The Dow c...</td>\n",
       "      <td>https://finance.yahoo.com/news/stock-market-to...</td>\n",
       "      <td>0.949</td>\n",
       "      <td>0.075</td>\n",
       "      <td>0.816</td>\n",
       "      <td>0.110</td>\n",
       "      <td>1686816242.500582</td>\n",
       "      <td>YYvF92rSTmsUwQ</td>\n",
       "    </tr>\n",
       "    <tr>\n",
       "      <th>4</th>\n",
       "      <td>2023-06-14 16:05:00</td>\n",
       "      <td>AMD Expands Generative AI Portfolio With MI300...</td>\n",
       "      <td>Advanced Micro Devices AMD is expanding its po...</td>\n",
       "      <td>https://finance.yahoo.com/news/amd-expands-gen...</td>\n",
       "      <td>0.997</td>\n",
       "      <td>0.004</td>\n",
       "      <td>0.851</td>\n",
       "      <td>0.146</td>\n",
       "      <td>1686816242.500582</td>\n",
       "      <td>f7cDfqsmL65lqA</td>\n",
       "    </tr>\n",
       "  </tbody>\n",
       "</table>\n",
       "</div>"
      ],
      "text/plain": [
       "                 date                                              title  \\\n",
       "0 2023-06-15 01:40:47  Amazon customer claims company locked him out ...   \n",
       "1 2023-06-14 20:24:51  AMD closes higher, AWS reportedly considers us...   \n",
       "2 2023-06-14 17:40:42  Oracle Is Fighting For Its Place Under The Clo...   \n",
       "3 2023-06-14 16:18:03  Stock market today: Dow ends lower as Fed sign...   \n",
       "4 2023-06-14 16:05:00  AMD Expands Generative AI Portfolio With MI300...   \n",
       "\n",
       "                                             content  \\\n",
       "0  An Amazon customer claims that the tech giant ...   \n",
       "1  Amazon Web Services is considering using AMD's...   \n",
       "2  On Monday after market close, Oracle Corporati...   \n",
       "3  By Yasin Ebrahim\\n\\nInvesting.com -- The Dow c...   \n",
       "4  Advanced Micro Devices AMD is expanding its po...   \n",
       "\n",
       "                                                link  sentiment__polarity  \\\n",
       "0  https://finance.yahoo.com/news/amazon-customer...                0.948   \n",
       "1  https://finance.yahoo.com/video/amd-closes-hig...                0.178   \n",
       "2  https://finance.yahoo.com/news/oracle-fighting...                0.997   \n",
       "3  https://finance.yahoo.com/news/stock-market-to...                0.949   \n",
       "4  https://finance.yahoo.com/news/amd-expands-gen...                0.997   \n",
       "\n",
       "   sentiment__neg  sentiment__neu  sentiment__pos       _dlt_load_id  \\\n",
       "0           0.063           0.830           0.108  1686816242.500582   \n",
       "1           0.000           0.948           0.052  1686816242.500582   \n",
       "2           0.015           0.854           0.131  1686816242.500582   \n",
       "3           0.075           0.816           0.110  1686816242.500582   \n",
       "4           0.004           0.851           0.146  1686816242.500582   \n",
       "\n",
       "          _dlt_id  \n",
       "0  6bdcxw33zSd3/w  \n",
       "1  hJqfY9vfZAjhdA  \n",
       "2  38j0rWjakxbomQ  \n",
       "3  YYvF92rSTmsUwQ  \n",
       "4  f7cDfqsmL65lqA  "
      ]
     },
     "execution_count": 8,
     "metadata": {},
     "output_type": "execute_result"
    }
   ],
   "source": [
    "df.head()"
   ]
  },
  {
   "cell_type": "code",
   "execution_count": 10,
   "id": "400fe2c0",
   "metadata": {},
   "outputs": [],
   "source": [
    "sentiment_news = df['title']"
   ]
  },
  {
   "cell_type": "code",
   "execution_count": 11,
   "id": "f6112963",
   "metadata": {},
   "outputs": [],
   "source": [
    "sentiment_news = sentiment_news.to_list()"
   ]
  },
  {
   "cell_type": "code",
   "execution_count": 12,
   "id": "e4d613c5",
   "metadata": {
    "scrolled": true
   },
   "outputs": [
    {
     "data": {
      "text/plain": [
       "'Stock market today: Dow ends lower as Fed signals more hikes ahead'"
      ]
     },
     "execution_count": 12,
     "metadata": {},
     "output_type": "execute_result"
    }
   ],
   "source": [
    "sentiment_news[3]"
   ]
  },
  {
   "cell_type": "code",
   "execution_count": 13,
   "id": "0417e818",
   "metadata": {},
   "outputs": [],
   "source": [
    "import transformers\n",
    "from transformers import pipeline\n",
    "pipe = pipeline(\"sentiment-analysis\", \n",
    "                model='mrm8488/distilroberta-finetuned-financial-news-sentiment-analysis')"
   ]
  },
  {
   "cell_type": "code",
   "execution_count": 14,
   "id": "57f79acf",
   "metadata": {},
   "outputs": [
    {
     "data": {
      "text/plain": [
       "[{'label': 'negative', 'score': 0.9353456497192383},\n",
       " {'label': 'positive', 'score': 0.9914557337760925},\n",
       " {'label': 'neutral', 'score': 0.9998493194580078},\n",
       " {'label': 'negative', 'score': 0.9918152689933777},\n",
       " {'label': 'positive', 'score': 0.9093578457832336},\n",
       " {'label': 'neutral', 'score': 0.9871711134910583},\n",
       " {'label': 'positive', 'score': 0.9843711256980896},\n",
       " {'label': 'neutral', 'score': 0.9997686743736267},\n",
       " {'label': 'neutral', 'score': 0.991507887840271},\n",
       " {'label': 'positive', 'score': 0.9996333122253418},\n",
       " {'label': 'neutral', 'score': 0.9998923540115356},\n",
       " {'label': 'neutral', 'score': 0.9998607635498047},\n",
       " {'label': 'neutral', 'score': 0.9997993111610413},\n",
       " {'label': 'neutral', 'score': 0.999794065952301},\n",
       " {'label': 'neutral', 'score': 0.9998190999031067},\n",
       " {'label': 'neutral', 'score': 0.9997413754463196},\n",
       " {'label': 'neutral', 'score': 0.9998810291290283},\n",
       " {'label': 'neutral', 'score': 0.9995823502540588},\n",
       " {'label': 'neutral', 'score': 0.9998714923858643},\n",
       " {'label': 'positive', 'score': 0.9990780353546143},\n",
       " {'label': 'neutral', 'score': 0.999854326248169},\n",
       " {'label': 'negative', 'score': 0.9666094779968262},\n",
       " {'label': 'neutral', 'score': 0.9996651411056519},\n",
       " {'label': 'neutral', 'score': 0.9997703433036804},\n",
       " {'label': 'neutral', 'score': 0.9998871088027954},\n",
       " {'label': 'neutral', 'score': 0.9836511015892029},\n",
       " {'label': 'negative', 'score': 0.9114434123039246},\n",
       " {'label': 'neutral', 'score': 0.8581264019012451},\n",
       " {'label': 'negative', 'score': 0.9899619817733765},\n",
       " {'label': 'negative', 'score': 0.9622118473052979}]"
      ]
     },
     "execution_count": 14,
     "metadata": {},
     "output_type": "execute_result"
    }
   ],
   "source": [
    "pipe(sentiment_news)"
   ]
  },
  {
   "cell_type": "code",
   "execution_count": null,
   "id": "19a5d0fa",
   "metadata": {},
   "outputs": [],
   "source": []
  }
 ],
 "metadata": {
  "kernelspec": {
   "display_name": "Python 3 (ipykernel)",
   "language": "python",
   "name": "python3"
  },
  "language_info": {
   "codemirror_mode": {
    "name": "ipython",
    "version": 3
   },
   "file_extension": ".py",
   "mimetype": "text/x-python",
   "name": "python",
   "nbconvert_exporter": "python",
   "pygments_lexer": "ipython3",
   "version": "3.9.13"
  }
 },
 "nbformat": 4,
 "nbformat_minor": 5
}
